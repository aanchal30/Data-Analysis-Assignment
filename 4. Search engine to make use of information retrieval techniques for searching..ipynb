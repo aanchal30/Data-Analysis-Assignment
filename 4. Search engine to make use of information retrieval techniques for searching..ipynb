{
  "nbformat": 4,
  "nbformat_minor": 0,
  "metadata": {
    "colab": {
      "provenance": []
    },
    "kernelspec": {
      "name": "python3",
      "display_name": "Python 3"
    },
    "language_info": {
      "name": "python"
    }
  },
  "cells": [
    {
      "cell_type": "code",
      "source": [
        "pip install pandas nltk scikit-learn"
      ],
      "metadata": {
        "colab": {
          "base_uri": "https://localhost:8080/"
        },
        "id": "JDlkEt6KWumZ",
        "outputId": "315f57b6-053c-425f-9ec6-56a032dcea7d"
      },
      "execution_count": 3,
      "outputs": [
        {
          "output_type": "stream",
          "name": "stdout",
          "text": [
            "Requirement already satisfied: pandas in /usr/local/lib/python3.10/dist-packages (1.5.3)\n",
            "Requirement already satisfied: nltk in /usr/local/lib/python3.10/dist-packages (3.8.1)\n",
            "Requirement already satisfied: scikit-learn in /usr/local/lib/python3.10/dist-packages (1.2.2)\n",
            "Requirement already satisfied: python-dateutil>=2.8.1 in /usr/local/lib/python3.10/dist-packages (from pandas) (2.8.2)\n",
            "Requirement already satisfied: pytz>=2020.1 in /usr/local/lib/python3.10/dist-packages (from pandas) (2023.4)\n",
            "Requirement already satisfied: numpy>=1.21.0 in /usr/local/lib/python3.10/dist-packages (from pandas) (1.25.2)\n",
            "Requirement already satisfied: click in /usr/local/lib/python3.10/dist-packages (from nltk) (8.1.7)\n",
            "Requirement already satisfied: joblib in /usr/local/lib/python3.10/dist-packages (from nltk) (1.3.2)\n",
            "Requirement already satisfied: regex>=2021.8.3 in /usr/local/lib/python3.10/dist-packages (from nltk) (2023.12.25)\n",
            "Requirement already satisfied: tqdm in /usr/local/lib/python3.10/dist-packages (from nltk) (4.66.2)\n",
            "Requirement already satisfied: scipy>=1.3.2 in /usr/local/lib/python3.10/dist-packages (from scikit-learn) (1.11.4)\n",
            "Requirement already satisfied: threadpoolctl>=2.0.0 in /usr/local/lib/python3.10/dist-packages (from scikit-learn) (3.3.0)\n",
            "Requirement already satisfied: six>=1.5 in /usr/local/lib/python3.10/dist-packages (from python-dateutil>=2.8.1->pandas) (1.16.0)\n"
          ]
        }
      ]
    },
    {
      "cell_type": "code",
      "source": [
        "import pandas as pd\n",
        "import nltk\n",
        "from nltk.corpus import stopwords\n",
        "from nltk.tokenize import word_tokenize\n",
        "from sklearn.feature_extraction.text import TfidfVectorizer\n",
        "from sklearn.metrics.pairwise import cosine_similarity\n",
        "\n",
        "nltk.download('punkt')\n",
        "nltk.download('stopwords')\n",
        "\n",
        "df = pd.read_csv('documents.csv')\n",
        "\n",
        "stop_words = list(stopwords.words('english'))\n",
        "tfidf_vectorizer = TfidfVectorizer(stop_words='english')\n",
        "tfidf_matrix = tfidf_vectorizer.fit_transform(df['text'])\n",
        "\n",
        "def search(query, df, tfidf_vectorizer, tfidf_matrix):\n",
        "\n",
        "    query_tokens = word_tokenize(query.lower())\n",
        "    query_vector = tfidf_vectorizer.transform([\" \".join(query_tokens)])\n",
        "\n",
        "    cosine_similarities = cosine_similarity(query_vector, tfidf_matrix).flatten()\n",
        "\n",
        "    similar_documents = sorted(range(len(cosine_similarities)), key=lambda i: cosine_similarities[i], reverse=True)\n",
        "\n",
        "    for idx in similar_documents[:3]:\n",
        "        print(f\"Document {idx+1}: {df.iloc[idx]['text']}\")\n",
        "query = \"information retrieval\"\n",
        "search(query, df, tfidf_vectorizer, tfidf_matrix)"
      ],
      "metadata": {
        "colab": {
          "base_uri": "https://localhost:8080/"
        },
        "id": "SUhrfiBmVouS",
        "outputId": "66ad118b-ab36-4fdb-d9f8-7bcf0b9ba821"
      },
      "execution_count": 5,
      "outputs": [
        {
          "output_type": "stream",
          "name": "stdout",
          "text": [
            "Document 62: Amount moment notice day offer. Agree enter interesting information cover read. Commercial operation people sound power.\n",
            "Document 4: Guess listen relationship nor. Join south television really several generation. Really professional factor information.\n",
            "Document 57: After much couple. Sport nothing table well especially line.\n",
            "Read how statement. Rise write senior hold area information within. Worker decide factor he east material or.\n"
          ]
        },
        {
          "output_type": "stream",
          "name": "stderr",
          "text": [
            "[nltk_data] Downloading package punkt to /root/nltk_data...\n",
            "[nltk_data]   Package punkt is already up-to-date!\n",
            "[nltk_data] Downloading package stopwords to /root/nltk_data...\n",
            "[nltk_data]   Package stopwords is already up-to-date!\n"
          ]
        }
      ]
    },
    {
      "cell_type": "code",
      "source": [
        "query = input(\"Enter your search query: \")\n",
        "search(query, df, tfidf_vectorizer, tfidf_matrix)"
      ],
      "metadata": {
        "colab": {
          "base_uri": "https://localhost:8080/"
        },
        "id": "MUecuVYJY6cq",
        "outputId": "6990a4bb-a9ee-440b-cc54-8aab6c430696"
      },
      "execution_count": 9,
      "outputs": [
        {
          "output_type": "stream",
          "name": "stdout",
          "text": [
            "Enter your search query: couple\n",
            "Document 59: Board site group our.\n",
            "Pay deal father yes. Eye just prove suffer peace from. Suffer education work couple.\n",
            "Document 38: Test would couple. Two smile join notice. Loss drive rule indeed central.\n",
            "Which store hair. Popular peace agency budget Mrs social need.\n",
            "Document 57: After much couple. Sport nothing table well especially line.\n",
            "Read how statement. Rise write senior hold area information within. Worker decide factor he east material or.\n"
          ]
        }
      ]
    }
  ]
}